{
 "cells": [
  {
   "cell_type": "code",
   "execution_count": 1,
   "metadata": {},
   "outputs": [],
   "source": [
    "import pandas as pd\n",
    "import numpy as np\n",
    "import matplotlib.pyplot as plt\n",
    "import seaborn as sns \n",
    "%matplotlib inline "
   ]
  },
  {
   "cell_type": "code",
   "execution_count": 2,
   "metadata": {},
   "outputs": [],
   "source": [
    "train = pd.read_csv('../apartment/train.csv')\n",
    "#train.info()"
   ]
  },
  {
   "cell_type": "code",
   "execution_count": 3,
   "metadata": {},
   "outputs": [],
   "source": [
    "train['CarPerArea']=train['GarageCars']/train['GarageArea']\n",
    "train['CarPerArea']=train['CarPerArea'].fillna(0)"
   ]
  },
  {
   "cell_type": "code",
   "execution_count": 4,
   "metadata": {},
   "outputs": [],
   "source": [
    "train['basementAnd1stFloorArea'] = train['1stFlrSF']+train['TotalBsmtSF']"
   ]
  },
  {
   "cell_type": "code",
   "execution_count": 5,
   "metadata": {},
   "outputs": [],
   "source": [
    "train = train.drop('GarageArea',1)\n",
    "train = train.drop('GarageCars',1)\n",
    "train = train.drop('1stFlrSF',1)\n",
    "train = train.drop('TotalBsmtSF',1)"
   ]
  },
  {
   "cell_type": "code",
   "execution_count": 6,
   "metadata": {},
   "outputs": [],
   "source": [
    "from sklearn import preprocessing\n",
    "\n",
    "catagorical_cols=[]\n",
    "for column in train.columns.values:\n",
    "    if (train[column].dtype=='O'):\n",
    "        catagorical_cols.append(column)\n",
    "\n",
    "\n",
    "for x in catagorical_cols:\n",
    "    train[x]=train[x].fillna('None')\n",
    "    \n",
    "for x in catagorical_cols:\n",
    "    label = preprocessing.LabelEncoder()\n",
    "    train[x] = label.fit_transform(train[x])"
   ]
  },
  {
   "cell_type": "code",
   "execution_count": 7,
   "metadata": {},
   "outputs": [],
   "source": [
    "from sklearn import preprocessing\n",
    "from sklearn import linear_model, svm, gaussian_process\n",
    "from sklearn.ensemble import RandomForestRegressor\n",
    "from sklearn.tree import DecisionTreeRegressor\n",
    "from sklearn.linear_model.stochastic_gradient import SGDRegressor\n",
    "from sklearn.ensemble import GradientBoostingRegressor\n",
    "from sklearn.model_selection import train_test_split\n",
    "from sklearn.neural_network import MLPRegressor\n",
    "from sklearn.linear_model import Lasso\n",
    "import numpy as np"
   ]
  },
  {
   "cell_type": "code",
   "execution_count": 8,
   "metadata": {},
   "outputs": [],
   "source": [
    "train1 = train.drop('SalePrice',1)\n",
    "X = train1\n",
    "y1 =  pd.DataFrame(train['SalePrice'],columns=['SalePrice'])\n",
    "y = pd.concat([ train['Id'],y1], axis=1)\n",
    "X_train,X_test, y_train, y_test = train_test_split(X, y, test_size=0.30, random_state=42)"
   ]
  },
  {
   "cell_type": "code",
   "execution_count": 9,
   "metadata": {},
   "outputs": [
    {
     "name": "stderr",
     "output_type": "stream",
     "text": [
      "D:\\Anaconda3\\lib\\site-packages\\pandas\\core\\generic.py:4355: SettingWithCopyWarning: \n",
      "A value is trying to be set on a copy of a slice from a DataFrame\n",
      "\n",
      "See the caveats in the documentation: http://pandas.pydata.org/pandas-docs/stable/indexing.html#indexing-view-versus-copy\n",
      "  self._update_inplace(new_data)\n"
     ]
    }
   ],
   "source": [
    "for x in X_train.columns.values:\n",
    "    if(X_train[x].isnull().sum() >0):\n",
    "        X_train[x].fillna(X_train[x].mean(),inplace = True)\n",
    "for y in X_test.columns.values:\n",
    "    if(X_test[y].isnull().sum() >0):\n",
    "        X_test[y].fillna(X_test[y].mean(),inplace = True)"
   ]
  },
  {
   "cell_type": "code",
   "execution_count": 10,
   "metadata": {},
   "outputs": [],
   "source": [
    "#feature selection"
   ]
  },
  {
   "cell_type": "code",
   "execution_count": 11,
   "metadata": {},
   "outputs": [
    {
     "data": {
      "text/plain": [
       "array([[8.930e+02, 2.000e+01, 7.000e+01, ..., 2.000e+00, 2.006e+03,\n",
       "        2.127e+03],\n",
       "       [1.106e+03, 6.000e+01, 9.800e+01, ..., 4.000e+00, 2.010e+03,\n",
       "        2.963e+03],\n",
       "       [4.140e+02, 3.000e+01, 5.600e+01, ..., 3.000e+00, 2.010e+03,\n",
       "        2.036e+03],\n",
       "       ...,\n",
       "       [6.510e+02, 6.000e+01, 6.500e+01, ..., 5.000e+00, 2.008e+03,\n",
       "        1.635e+03],\n",
       "       [4.400e+02, 5.000e+01, 6.700e+01, ..., 8.000e+00, 2.009e+03,\n",
       "        1.368e+03],\n",
       "       [7.990e+02, 6.000e+01, 1.040e+02, ..., 7.000e+00, 2.009e+03,\n",
       "        3.892e+03]])"
      ]
     },
     "execution_count": 11,
     "metadata": {},
     "output_type": "execute_result"
    }
   ],
   "source": [
    "from sklearn.feature_selection import VarianceThreshold\n",
    "sel = VarianceThreshold(threshold=(.8 * (1 - .8)))\n",
    "sel.fit_transform(X_train)\n",
    "sel.transform(X_test)"
   ]
  },
  {
   "cell_type": "code",
   "execution_count": 14,
   "metadata": {},
   "outputs": [],
   "source": [
    "X_train2 = X_train\n",
    "y_train2 = y_train['SalePrice'].values"
   ]
  },
  {
   "cell_type": "code",
   "execution_count": 15,
   "metadata": {},
   "outputs": [],
   "source": [
    "minmaxscaler = preprocessing.MinMaxScaler(copy=True, feature_range=(0, 1)).fit(X_train)\n",
    "X_train = X_train.astype(np.float64)\n",
    "y_train = y_train['SalePrice'].values.astype(np.float64)\n",
    "X_train = minmaxscaler.fit_transform(X_train)\n",
    "\n",
    "X_test = X_test.astype(np.float64)\n",
    "y_test = y_test['SalePrice'].values.astype(np.float64)\n",
    "X_test = minmaxscaler.transform(X_test)"
   ]
  },
  {
   "cell_type": "code",
   "execution_count": 1,
   "metadata": {},
   "outputs": [
    {
     "ename": "NameError",
     "evalue": "name 'svm' is not defined",
     "output_type": "error",
     "traceback": [
      "\u001b[1;31m---------------------------------------------------------------------------\u001b[0m",
      "\u001b[1;31mNameError\u001b[0m                                 Traceback (most recent call last)",
      "\u001b[1;32m<ipython-input-1-8f45a83a3329>\u001b[0m in \u001b[0;36m<module>\u001b[1;34m()\u001b[0m\n\u001b[0;32m      1\u001b[0m clfs = {\n\u001b[1;32m----> 2\u001b[1;33m         \u001b[1;34m'svm'\u001b[0m\u001b[1;33m:\u001b[0m\u001b[0msvm\u001b[0m\u001b[1;33m.\u001b[0m\u001b[0mSVR\u001b[0m\u001b[1;33m(\u001b[0m\u001b[1;33m)\u001b[0m\u001b[1;33m,\u001b[0m\u001b[1;33m\u001b[0m\u001b[0m\n\u001b[0m\u001b[0;32m      3\u001b[0m         \u001b[1;34m'RandomForestRegressor'\u001b[0m\u001b[1;33m:\u001b[0m\u001b[0mRandomForestRegressor\u001b[0m\u001b[1;33m(\u001b[0m\u001b[0mn_estimators\u001b[0m\u001b[1;33m=\u001b[0m\u001b[1;36m200\u001b[0m\u001b[1;33m)\u001b[0m\u001b[1;33m,\u001b[0m\u001b[1;33m\u001b[0m\u001b[0m\n\u001b[0;32m      4\u001b[0m         \u001b[1;34m'LinearRegression'\u001b[0m\u001b[1;33m:\u001b[0m\u001b[0mlinear_model\u001b[0m\u001b[1;33m.\u001b[0m\u001b[0mLinearRegression\u001b[0m\u001b[1;33m(\u001b[0m\u001b[0mcopy_X\u001b[0m\u001b[1;33m=\u001b[0m\u001b[1;32mTrue\u001b[0m\u001b[1;33m,\u001b[0m \u001b[0mfit_intercept\u001b[0m\u001b[1;33m=\u001b[0m\u001b[1;32mTrue\u001b[0m\u001b[1;33m,\u001b[0m \u001b[0mn_jobs\u001b[0m\u001b[1;33m=\u001b[0m\u001b[1;36m1\u001b[0m\u001b[1;33m,\u001b[0m \u001b[0mnormalize\u001b[0m\u001b[1;33m=\u001b[0m\u001b[1;32mFalse\u001b[0m\u001b[1;33m)\u001b[0m\u001b[1;33m,\u001b[0m\u001b[1;33m\u001b[0m\u001b[0m\n\u001b[0;32m      5\u001b[0m         \u001b[1;34m'DecisionTreeRegressor'\u001b[0m\u001b[1;33m:\u001b[0m\u001b[0mDecisionTreeRegressor\u001b[0m\u001b[1;33m(\u001b[0m\u001b[1;33m)\u001b[0m\u001b[1;33m,\u001b[0m\u001b[1;33m\u001b[0m\u001b[0m\n",
      "\u001b[1;31mNameError\u001b[0m: name 'svm' is not defined"
     ]
    }
   ],
   "source": [
    "clfs = {\n",
    "        'svm':svm.SVR(), \n",
    "        'RandomForestRegressor':RandomForestRegressor(n_estimators=200),\n",
    "        'LinearRegression':linear_model.LinearRegression(copy_X=True, fit_intercept=True, n_jobs=1, normalize=False),\n",
    "        'DecisionTreeRegressor':DecisionTreeRegressor(),\n",
    "        'SGDRegressor':SGDRegressor(max_iter=5, tol = None),\n",
    "        'GradientBoostingRegressor':GradientBoostingRegressor(),\n",
    "        'MLPRegressor':MLPRegressor(solver='adam', activation = 'relu',hidden_layer_sizes=20, max_iter=1000, learning_rate='adaptive', random_state= None),\n",
    "        'Lasso':Lasso(alpha = 0.1,max_iter=1000,random_state=None)\n",
    "       }\n",
    "for clf in clfs:\n",
    "    try:\n",
    "        clfs[clf].fit(X_train, y_train.ravel())   #why need to make this ravel()??\n",
    "        y_pred = clfs[clf].predict(X_test)\n",
    "        #print(clf + \" cost:\" + str(np.sum(y_pred-y_test)/len(y_pred)))\n",
    "        #print(clf + \" score:\" + str(np.mean(np.absolute(y_pred-y_test))))\n",
    "        #print(clf + \" score:\" + str(np.mean((y_pred-y_test)*(y_pred-y_test))))\n",
    "        print(clf + \" score:\" + str(np.sqrt(np.mean((np.log(y_pred)-np.log(y_test))*(np.log(y_pred)-np.log(y_test))))))\n",
    "    except Exception as e:\n",
    "        print(clf + \" Error:\")\n",
    "        print(str(e))"
   ]
  },
  {
   "cell_type": "code",
   "execution_count": 15,
   "metadata": {},
   "outputs": [],
   "source": [
    "#Prediction"
   ]
  },
  {
   "cell_type": "code",
   "execution_count": 16,
   "metadata": {},
   "outputs": [],
   "source": [
    "test = pd.read_csv('../apartment/test.csv')\n",
    "model = GradientBoostingRegressor()\n",
    "from sklearn import preprocessing\n",
    "label1 = preprocessing.LabelEncoder()\n",
    "\n",
    "catagorical_cols1=[]\n",
    "for column in test.columns.values:\n",
    "    if (test[column].dtype=='O'):\n",
    "        catagorical_cols1.append(column)\n",
    "\n",
    "\n",
    "for x in catagorical_cols1:\n",
    "    test[x]=test[x].fillna('None')\n",
    "    \n",
    "for x in catagorical_cols1:\n",
    "    label1 = preprocessing.LabelEncoder()\n",
    "    test[x] = label1.fit_transform(test[x])"
   ]
  },
  {
   "cell_type": "code",
   "execution_count": 17,
   "metadata": {},
   "outputs": [],
   "source": [
    "for z in test.columns.values:\n",
    "    if(test[z].isnull().sum() >0):\n",
    "        test[z].fillna(test[z].mean(),inplace = True)"
   ]
  },
  {
   "cell_type": "code",
   "execution_count": 18,
   "metadata": {},
   "outputs": [],
   "source": [
    "test['CarPerArea']=test['GarageCars']/test['GarageArea']\n",
    "test['CarPerArea']=test['CarPerArea'].fillna(0)\n",
    "test['basementAnd1stFloorArea'] = test['1stFlrSF']+test['TotalBsmtSF']\n",
    "test = test.drop('GarageArea',1)\n",
    "test = test.drop('GarageCars',1)\n",
    "test = test.drop('1stFlrSF',1)\n",
    "test = test.drop('TotalBsmtSF',1)"
   ]
  },
  {
   "cell_type": "code",
   "execution_count": 19,
   "metadata": {},
   "outputs": [
    {
     "data": {
      "text/plain": [
       "array([[1461.,   20.,    3., ...,    9.,    4., 1778.],\n",
       "       [1462.,   20.,    4., ...,    9.,    4., 2658.],\n",
       "       [1463.,   60.,    4., ...,    9.,    4., 1856.],\n",
       "       ...,\n",
       "       [2917.,   20.,    4., ...,    9.,    0., 2448.],\n",
       "       [2918.,   85.,    4., ...,    9.,    4., 1882.],\n",
       "       [2919.,   60.,    4., ...,    9.,    4., 1992.]])"
      ]
     },
     "execution_count": 19,
     "metadata": {},
     "output_type": "execute_result"
    }
   ],
   "source": [
    "sel.transform(test)"
   ]
  },
  {
   "cell_type": "code",
   "execution_count": 20,
   "metadata": {},
   "outputs": [
    {
     "data": {
      "text/plain": [
       "GradientBoostingRegressor(alpha=0.9, criterion='friedman_mse', init=None,\n",
       "             learning_rate=0.1, loss='ls', max_depth=3, max_features=None,\n",
       "             max_leaf_nodes=None, min_impurity_decrease=0.0,\n",
       "             min_impurity_split=None, min_samples_leaf=1,\n",
       "             min_samples_split=2, min_weight_fraction_leaf=0.0,\n",
       "             n_estimators=100, presort='auto', random_state=None,\n",
       "             subsample=1.0, verbose=0, warm_start=False)"
      ]
     },
     "execution_count": 20,
     "metadata": {},
     "output_type": "execute_result"
    }
   ],
   "source": [
    "model.fit(X_train2,y_train2) "
   ]
  },
  {
   "cell_type": "code",
   "execution_count": 21,
   "metadata": {},
   "outputs": [],
   "source": [
    "X = test\n",
    "y_predict = model.predict(X)\n",
    "\n",
    "predicted_result = pd.DataFrame(data = y_predict,columns=['SalePrice'])\n",
    "result = pd.concat([test['Id'],predicted_result],axis=1)"
   ]
  },
  {
   "cell_type": "code",
   "execution_count": 22,
   "metadata": {},
   "outputs": [],
   "source": [
    "result.to_csv('../apartment/Feature_Selection_Version.csv',index = False)"
   ]
  },
  {
   "cell_type": "code",
   "execution_count": null,
   "metadata": {},
   "outputs": [],
   "source": []
  }
 ],
 "metadata": {
  "kernelspec": {
   "display_name": "Python 3",
   "language": "python",
   "name": "python3"
  },
  "language_info": {
   "codemirror_mode": {
    "name": "ipython",
    "version": 3
   },
   "file_extension": ".py",
   "mimetype": "text/x-python",
   "name": "python",
   "nbconvert_exporter": "python",
   "pygments_lexer": "ipython3",
   "version": "3.6.4"
  }
 },
 "nbformat": 4,
 "nbformat_minor": 2
}
