{
 "cells": [
  {
   "cell_type": "code",
   "execution_count": 1,
   "metadata": {},
   "outputs": [],
   "source": [
    "import pandas as pd\n",
    "import numpy as np\n",
    "import matplotlib.pyplot as plt\n",
    "import seaborn as sns \n",
    "%matplotlib inline "
   ]
  },
  {
   "cell_type": "code",
   "execution_count": 2,
   "metadata": {},
   "outputs": [],
   "source": [
    "train = pd.read_csv('../apartment/train.csv')\n",
    "#train.info()"
   ]
  },
  {
   "cell_type": "code",
   "execution_count": 3,
   "metadata": {},
   "outputs": [],
   "source": [
    "train['CarPerArea']=train['GarageCars']/train['GarageArea']\n",
    "train['CarPerArea']=train['CarPerArea'].fillna(0)"
   ]
  },
  {
   "cell_type": "code",
   "execution_count": 4,
   "metadata": {},
   "outputs": [],
   "source": [
    "train['basementAnd1stFloorArea'] = train['1stFlrSF']+train['TotalBsmtSF']"
   ]
  },
  {
   "cell_type": "code",
   "execution_count": 5,
   "metadata": {},
   "outputs": [],
   "source": [
    "train = train.drop('GarageArea',1)\n",
    "train = train.drop('GarageCars',1)\n",
    "train = train.drop('1stFlrSF',1)\n",
    "train = train.drop('TotalBsmtSF',1)"
   ]
  },
  {
   "cell_type": "code",
   "execution_count": 6,
   "metadata": {},
   "outputs": [],
   "source": [
    "from sklearn import preprocessing\n",
    "\n",
    "catagorical_cols=[]\n",
    "for column in train.columns.values:\n",
    "    if (train[column].dtype=='O'):\n",
    "        catagorical_cols.append(column)\n",
    "\n",
    "\n",
    "for x in catagorical_cols:\n",
    "    train[x]=train[x].fillna('None')\n",
    "    \n",
    "for x in catagorical_cols:\n",
    "    label = preprocessing.LabelEncoder()\n",
    "    train[x] = label.fit_transform(train[x])"
   ]
  },
  {
   "cell_type": "code",
   "execution_count": 7,
   "metadata": {},
   "outputs": [],
   "source": [
    "from sklearn import preprocessing\n",
    "from sklearn import linear_model, svm, gaussian_process\n",
    "from sklearn.ensemble import RandomForestRegressor\n",
    "from sklearn.tree import DecisionTreeRegressor\n",
    "from sklearn.linear_model.stochastic_gradient import SGDRegressor\n",
    "from sklearn.ensemble import GradientBoostingRegressor\n",
    "from sklearn.model_selection import train_test_split\n",
    "from sklearn.neural_network import MLPRegressor\n",
    "from sklearn.linear_model import Lasso\n",
    "import numpy as np"
   ]
  },
  {
   "cell_type": "code",
   "execution_count": 8,
   "metadata": {},
   "outputs": [],
   "source": [
    "train1 = train.drop('SalePrice',1)\n",
    "X = train1\n",
    "y1 =  pd.DataFrame(train['SalePrice'],columns=['SalePrice'])\n",
    "y = pd.concat([ train['Id'],y1], axis=1)\n",
    "X_train,X_test, y_train, y_test = train_test_split(X, y, test_size=0.30, random_state=42)"
   ]
  },
  {
   "cell_type": "code",
   "execution_count": 9,
   "metadata": {},
   "outputs": [],
   "source": [
    "cols =['SalePrice','OverallQual','GrLivArea','CarPerArea','basementAnd1stFloorArea','FullBath','YearBuilt','TotRmsAbvGrd','YearRemodAdd']"
   ]
  },
  {
   "cell_type": "code",
   "execution_count": 10,
   "metadata": {},
   "outputs": [
    {
     "data": {
      "text/html": [
       "<div>\n",
       "<style scoped>\n",
       "    .dataframe tbody tr th:only-of-type {\n",
       "        vertical-align: middle;\n",
       "    }\n",
       "\n",
       "    .dataframe tbody tr th {\n",
       "        vertical-align: top;\n",
       "    }\n",
       "\n",
       "    .dataframe thead th {\n",
       "        text-align: right;\n",
       "    }\n",
       "</style>\n",
       "<table border=\"1\" class=\"dataframe\">\n",
       "  <thead>\n",
       "    <tr style=\"text-align: right;\">\n",
       "      <th></th>\n",
       "      <th>Id</th>\n",
       "      <th>MSSubClass</th>\n",
       "      <th>MSZoning</th>\n",
       "      <th>LotFrontage</th>\n",
       "      <th>LotArea</th>\n",
       "      <th>Street</th>\n",
       "      <th>Alley</th>\n",
       "      <th>LotShape</th>\n",
       "      <th>LandContour</th>\n",
       "      <th>Utilities</th>\n",
       "      <th>...</th>\n",
       "      <th>PoolQC</th>\n",
       "      <th>Fence</th>\n",
       "      <th>MiscFeature</th>\n",
       "      <th>MiscVal</th>\n",
       "      <th>MoSold</th>\n",
       "      <th>YrSold</th>\n",
       "      <th>SaleType</th>\n",
       "      <th>SaleCondition</th>\n",
       "      <th>CarPerArea</th>\n",
       "      <th>basementAnd1stFloorArea</th>\n",
       "    </tr>\n",
       "  </thead>\n",
       "  <tbody>\n",
       "    <tr>\n",
       "      <th>1298</th>\n",
       "      <td>1299</td>\n",
       "      <td>60</td>\n",
       "      <td>3</td>\n",
       "      <td>313.0</td>\n",
       "      <td>63887</td>\n",
       "      <td>1</td>\n",
       "      <td>1</td>\n",
       "      <td>2</td>\n",
       "      <td>0</td>\n",
       "      <td>0</td>\n",
       "      <td>...</td>\n",
       "      <td>2</td>\n",
       "      <td>4</td>\n",
       "      <td>1</td>\n",
       "      <td>0</td>\n",
       "      <td>1</td>\n",
       "      <td>2008</td>\n",
       "      <td>6</td>\n",
       "      <td>5</td>\n",
       "      <td>0.001410</td>\n",
       "      <td>10802</td>\n",
       "    </tr>\n",
       "    <tr>\n",
       "      <th>523</th>\n",
       "      <td>524</td>\n",
       "      <td>60</td>\n",
       "      <td>3</td>\n",
       "      <td>130.0</td>\n",
       "      <td>40094</td>\n",
       "      <td>1</td>\n",
       "      <td>1</td>\n",
       "      <td>0</td>\n",
       "      <td>0</td>\n",
       "      <td>0</td>\n",
       "      <td>...</td>\n",
       "      <td>3</td>\n",
       "      <td>4</td>\n",
       "      <td>1</td>\n",
       "      <td>0</td>\n",
       "      <td>10</td>\n",
       "      <td>2007</td>\n",
       "      <td>6</td>\n",
       "      <td>5</td>\n",
       "      <td>0.003394</td>\n",
       "      <td>6276</td>\n",
       "    </tr>\n",
       "  </tbody>\n",
       "</table>\n",
       "<p>2 rows × 78 columns</p>\n",
       "</div>"
      ],
      "text/plain": [
       "        Id  MSSubClass  MSZoning  LotFrontage  LotArea  Street  Alley  \\\n",
       "1298  1299          60         3        313.0    63887       1      1   \n",
       "523    524          60         3        130.0    40094       1      1   \n",
       "\n",
       "      LotShape  LandContour  Utilities           ...             PoolQC  \\\n",
       "1298         2            0          0           ...                  2   \n",
       "523          0            0          0           ...                  3   \n",
       "\n",
       "      Fence  MiscFeature  MiscVal  MoSold  YrSold  SaleType  SaleCondition  \\\n",
       "1298      4            1        0       1    2008         6              5   \n",
       "523       4            1        0      10    2007         6              5   \n",
       "\n",
       "      CarPerArea  basementAnd1stFloorArea  \n",
       "1298    0.001410                    10802  \n",
       "523     0.003394                     6276  \n",
       "\n",
       "[2 rows x 78 columns]"
      ]
     },
     "execution_count": 10,
     "metadata": {},
     "output_type": "execute_result"
    }
   ],
   "source": [
    "#GrLivArea outlier\n",
    "X_train.sort_values(by = 'GrLivArea', ascending = False)[:2]"
   ]
  },
  {
   "cell_type": "code",
   "execution_count": 11,
   "metadata": {},
   "outputs": [],
   "source": [
    "X_train = X_train.drop(X_train[X_train['Id'] == 1299].index)\n",
    "X_train = X_train.drop(X_train[X_train['Id'] == 524].index)"
   ]
  },
  {
   "cell_type": "code",
   "execution_count": 12,
   "metadata": {},
   "outputs": [],
   "source": [
    "y_train = y_train.drop(y_train[y_train['Id'] == 1299].index)\n",
    "y_train = y_train.drop(y_train[y_train['Id'] == 524].index)"
   ]
  },
  {
   "cell_type": "code",
   "execution_count": 13,
   "metadata": {},
   "outputs": [],
   "source": [
    "X_train = X_train.drop(X_train[X_train['Id'] == 269].index)\n",
    "X_train = X_train.drop(X_train[X_train['Id'] == 947].index)\n",
    "X_train = X_train.drop(X_train[X_train['Id'] == 902].index)\n",
    "X_train = X_train.drop(X_train[X_train['Id'] == 901].index)\n",
    "X_train = X_train.drop(X_train[X_train['Id'] == 1299].index)\n",
    "X_train = X_train.drop(X_train[X_train['Id'] == 864].index)"
   ]
  },
  {
   "cell_type": "code",
   "execution_count": 14,
   "metadata": {},
   "outputs": [],
   "source": [
    "y_train = y_train.drop(y_train[y_train['Id'] == 269].index)\n",
    "y_train = y_train.drop(y_train[y_train['Id'] == 947].index)\n",
    "y_train = y_train.drop(y_train[y_train['Id'] == 902].index)\n",
    "y_train = y_train.drop(y_train[y_train['Id'] == 901].index)\n",
    "y_train = y_train.drop(y_train[y_train['Id'] == 1299].index)\n",
    "y_train = y_train.drop(y_train[y_train['Id'] == 864].index)"
   ]
  },
  {
   "cell_type": "code",
   "execution_count": 15,
   "metadata": {},
   "outputs": [],
   "source": [
    "X_train = X_train.drop(X_train[X_train['Id'] == 269].index)\n",
    "y_train = y_train.drop(y_train[y_train['Id'] == 269].index)"
   ]
  },
  {
   "cell_type": "code",
   "execution_count": 16,
   "metadata": {},
   "outputs": [],
   "source": [
    "cols =['OverallQual','GrLivArea','CarPerArea','basementAnd1stFloorArea','FullBath','YearBuilt','TotRmsAbvGrd','YearRemodAdd','GarageYrBlt','MasVnrArea','Fireplaces','BsmtFinSF1','Foundation','LotFrontage','WoodDeckSF','2ndFlrSF','OpenPorchSF','HalfBath','LotArea','CentralAir','PavedDrive','BsmtFullBath']\n",
    "#cols =['OverallQual','GrLivArea','CarPerArea','basementAnd1stFloorArea','FullBath','YearBuilt','TotRmsAbvGrd','YearRemodAdd','Fireplaces','BsmtFinSF1','Foundation','WoodDeckSF','2ndFlrSF','OpenPorchSF']"
   ]
  },
  {
   "cell_type": "code",
   "execution_count": 17,
   "metadata": {},
   "outputs": [],
   "source": [
    "X_train['LotFrontage'].fillna(X_train['LotFrontage'].mean(),inplace = True)\n",
    "X_train['MasVnrArea'].fillna(X_train['MasVnrArea'].mean(),inplace = True)\n",
    "X_train['GarageYrBlt'].fillna(X_train['MasVnrArea'].mean(),inplace = True)"
   ]
  },
  {
   "cell_type": "code",
   "execution_count": 18,
   "metadata": {},
   "outputs": [
    {
     "data": {
      "text/plain": [
       "OverallQual                0\n",
       "GrLivArea                  0\n",
       "CarPerArea                 0\n",
       "basementAnd1stFloorArea    0\n",
       "FullBath                   0\n",
       "YearBuilt                  0\n",
       "TotRmsAbvGrd               0\n",
       "YearRemodAdd               0\n",
       "GarageYrBlt                0\n",
       "MasVnrArea                 0\n",
       "Fireplaces                 0\n",
       "BsmtFinSF1                 0\n",
       "Foundation                 0\n",
       "LotFrontage                0\n",
       "WoodDeckSF                 0\n",
       "2ndFlrSF                   0\n",
       "OpenPorchSF                0\n",
       "HalfBath                   0\n",
       "LotArea                    0\n",
       "CentralAir                 0\n",
       "PavedDrive                 0\n",
       "BsmtFullBath               0\n",
       "dtype: int64"
      ]
     },
     "execution_count": 18,
     "metadata": {},
     "output_type": "execute_result"
    }
   ],
   "source": [
    "X_train[cols].isnull().sum()"
   ]
  },
  {
   "cell_type": "code",
   "execution_count": 19,
   "metadata": {},
   "outputs": [],
   "source": [
    "X_train2 = X_train[cols].values\n",
    "y_train2 = y_train['SalePrice'].values"
   ]
  },
  {
   "cell_type": "code",
   "execution_count": 20,
   "metadata": {},
   "outputs": [],
   "source": [
    "X_train = X_train[cols].values.astype(np.float64)\n",
    "y_train = y_train['SalePrice'].values.astype(np.float64)"
   ]
  },
  {
   "cell_type": "code",
   "execution_count": 21,
   "metadata": {},
   "outputs": [],
   "source": [
    "minmaxscaler = preprocessing.MinMaxScaler(copy=True, feature_range=(0, 1)).fit(X_train)\n",
    "X_train = minmaxscaler.fit_transform(X_train)\n"
   ]
  },
  {
   "cell_type": "code",
   "execution_count": 22,
   "metadata": {},
   "outputs": [
    {
     "name": "stderr",
     "output_type": "stream",
     "text": [
      "D:\\Anaconda3\\lib\\site-packages\\pandas\\core\\generic.py:4355: SettingWithCopyWarning: \n",
      "A value is trying to be set on a copy of a slice from a DataFrame\n",
      "\n",
      "See the caveats in the documentation: http://pandas.pydata.org/pandas-docs/stable/indexing.html#indexing-view-versus-copy\n",
      "  self._update_inplace(new_data)\n"
     ]
    }
   ],
   "source": [
    "X_test['LotFrontage'].fillna(X_test['LotFrontage'].mean(),inplace = True)\n",
    "X_test['MasVnrArea'].fillna(X_test['MasVnrArea'].mean(),inplace = True)\n",
    "X_test['GarageYrBlt'].fillna(X_test['MasVnrArea'].mean(),inplace = True)"
   ]
  },
  {
   "cell_type": "code",
   "execution_count": 23,
   "metadata": {},
   "outputs": [],
   "source": [
    "#cols =['OverallQual','GrLivArea','CarPerArea','basementAnd1stFloorArea','FullBath','YearBuilt','TotRmsAbvGrd','YearRemodAdd','Fireplaces','BsmtFinSF1','Foundation','WoodDeckSF','2ndFlrSF','OpenPorchSF']\n",
    "#'GarageYrBlt'，'MasVnrArea'，'LotFrontage'\n",
    "cols =['OverallQual','GrLivArea','CarPerArea','basementAnd1stFloorArea','FullBath','YearBuilt','TotRmsAbvGrd','YearRemodAdd','GarageYrBlt','MasVnrArea','Fireplaces','BsmtFinSF1','Foundation','LotFrontage','WoodDeckSF','2ndFlrSF','OpenPorchSF','HalfBath','LotArea','CentralAir','PavedDrive','BsmtFullBath']\n",
    "\n",
    "X_test = X_test[cols].values.astype(np.float64)\n",
    "y_test = y_test['SalePrice'].values.astype(np.float64)\n",
    "\n",
    "X_test = minmaxscaler.transform(X_test)"
   ]
  },
  {
   "cell_type": "code",
   "execution_count": 24,
   "metadata": {},
   "outputs": [
    {
     "name": "stdout",
     "output_type": "stream",
     "text": [
      "svm score:0.41181212345541157\n",
      "RandomForestRegressor score:0.14434459318370377\n",
      "LinearRegression score:0.2581228742321452\n",
      "DecisionTreeRegressor score:0.2079178236164817\n",
      "SGDRegressor score:0.2198616865478401\n",
      "GradientBoostingRegressor score:0.14188641924465267\n",
      "MLPRegressor score:3.119247714521788\n",
      "Lasso score:0.25816477270183336\n"
     ]
    },
    {
     "name": "stderr",
     "output_type": "stream",
     "text": [
      "D:\\Anaconda3\\lib\\site-packages\\sklearn\\neural_network\\multilayer_perceptron.py:564: ConvergenceWarning: Stochastic Optimizer: Maximum iterations (1000) reached and the optimization hasn't converged yet.\n",
      "  % self.max_iter, ConvergenceWarning)\n"
     ]
    }
   ],
   "source": [
    "clfs = {\n",
    "        'svm':svm.SVR(), \n",
    "        'RandomForestRegressor':RandomForestRegressor(n_estimators=200),\n",
    "        'LinearRegression':linear_model.LinearRegression(copy_X=True, fit_intercept=True, n_jobs=1, normalize=False),\n",
    "        'DecisionTreeRegressor':DecisionTreeRegressor(),\n",
    "        'SGDRegressor':SGDRegressor(max_iter=5, tol = None),\n",
    "        'GradientBoostingRegressor':GradientBoostingRegressor(),\n",
    "        'MLPRegressor':MLPRegressor(solver='adam', activation = 'relu',hidden_layer_sizes=20, max_iter=1000, learning_rate='adaptive', random_state= None),\n",
    "        'Lasso':Lasso(alpha = 0.1,max_iter=1000,random_state=None)\n",
    "       }\n",
    "for clf in clfs:\n",
    "    try:\n",
    "        clfs[clf].fit(X_train, y_train.ravel())   #why need to make this ravel()??\n",
    "        y_pred = clfs[clf].predict(X_test)\n",
    "        #print(clf + \" cost:\" + str(np.sum(y_pred-y_test)/len(y_pred)))\n",
    "        #print(clf + \" score:\" + str(np.mean(np.absolute(y_pred-y_test))))\n",
    "        #print(clf + \" score:\" + str(np.mean((y_pred-y_test)*(y_pred-y_test))))\n",
    "        print(clf + \" score:\" + str(np.sqrt(np.mean((np.log(y_pred)-np.log(y_test))*(np.log(y_pred)-np.log(y_test))))))\n",
    "    except Exception as e:\n",
    "        print(clf + \" Error:\")\n",
    "        print(str(e))"
   ]
  },
  {
   "cell_type": "code",
   "execution_count": 25,
   "metadata": {},
   "outputs": [],
   "source": [
    "# prediction # gradientboosting 0.14188， rf 0.1443"
   ]
  },
  {
   "cell_type": "code",
   "execution_count": 26,
   "metadata": {},
   "outputs": [],
   "source": [
    "test = pd.read_csv('../apartment/test.csv')\n",
    "model = GradientBoostingRegressor()\n",
    "from sklearn import preprocessing\n",
    "\n",
    "\n",
    "label1 = preprocessing.LabelEncoder()\n",
    "test['Foundation'] = label1.fit_transform(test['Foundation'])\n",
    "test['PavedDrive']= label1.fit_transform(test['PavedDrive'])\n",
    "test['CentralAir']= label1.fit_transform(test['CentralAir'])\n",
    "#test['GarageCond'] = label1.fit_transform(test['GarageCond'])\n",
    "\n",
    "test['basementAnd1stFloorArea'] =test['1stFlrSF']+test['TotalBsmtSF']\n",
    "test['CarPerArea']=test['GarageCars']/test['GarageArea']\n",
    "\n",
    "test['CarPerArea']=test['CarPerArea'].fillna(272.566184)\n",
    "test['basementAnd1stFloorArea']=test['basementAnd1stFloorArea'].fillna(2202.831276)\n",
    "\n",
    "test['LotFrontage'].fillna(test['LotFrontage'].mean(),inplace = True)\n",
    "test['MasVnrArea'].fillna(test['MasVnrArea'].mean(),inplace = True)\n",
    "test['GarageYrBlt'].fillna(test['GarageYrBlt'].mean(),inplace = True)\n",
    "test['BsmtFinSF1'].fillna(test['BsmtFinSF1'].mean(),inplace = True)\n",
    "test['CentralAir'].fillna(test['CentralAir'].mean(),inplace = True)\n",
    "#test['GarageCond'].fillna(test['GarageCond'].mean(),inplace = True)\n",
    "test['BsmtFullBath'].fillna(test['BsmtFullBath'].mean(),inplace = True)"
   ]
  },
  {
   "cell_type": "code",
   "execution_count": 27,
   "metadata": {},
   "outputs": [],
   "source": [
    "#cols =['OverallQual','GrLivArea','CarPerArea','basementAnd1stFloorArea','FullBath','YearBuilt','TotRmsAbvGrd','YearRemodAdd','GarageYrBlt','MasVnrArea','Fireplaces','BsmtFinSF1','Foundation','LotFrontage','WoodDeckSF','2ndFlrSF','OpenPorchSF']\n",
    "#cols =['OverallQual','GrLivArea','CarPerArea','basementAnd1stFloorArea','FullBath','YearBuilt','TotRmsAbvGrd','YearRemodAdd','Fireplaces','BsmtFinSF1','Foundation','WoodDeckSF','2ndFlrSF','OpenPorchSF']\n",
    "cols =['OverallQual','GrLivArea','CarPerArea','basementAnd1stFloorArea','FullBath','YearBuilt','TotRmsAbvGrd','YearRemodAdd','GarageYrBlt','MasVnrArea','Fireplaces','BsmtFinSF1','Foundation','LotFrontage','WoodDeckSF','2ndFlrSF','OpenPorchSF','HalfBath','LotArea','CentralAir','PavedDrive','BsmtFullBath']\n"
   ]
  },
  {
   "cell_type": "code",
   "execution_count": 28,
   "metadata": {},
   "outputs": [
    {
     "data": {
      "text/plain": [
       "OverallQual                0\n",
       "GrLivArea                  0\n",
       "CarPerArea                 0\n",
       "basementAnd1stFloorArea    0\n",
       "FullBath                   0\n",
       "YearBuilt                  0\n",
       "TotRmsAbvGrd               0\n",
       "YearRemodAdd               0\n",
       "GarageYrBlt                0\n",
       "MasVnrArea                 0\n",
       "Fireplaces                 0\n",
       "BsmtFinSF1                 0\n",
       "Foundation                 0\n",
       "LotFrontage                0\n",
       "WoodDeckSF                 0\n",
       "2ndFlrSF                   0\n",
       "OpenPorchSF                0\n",
       "HalfBath                   0\n",
       "LotArea                    0\n",
       "CentralAir                 0\n",
       "PavedDrive                 0\n",
       "BsmtFullBath               0\n",
       "dtype: int64"
      ]
     },
     "execution_count": 28,
     "metadata": {},
     "output_type": "execute_result"
    }
   ],
   "source": [
    "test[cols].isnull().sum()"
   ]
  },
  {
   "cell_type": "code",
   "execution_count": 29,
   "metadata": {},
   "outputs": [],
   "source": [
    "#XX = train[cols].values\n",
    "#yy = train['SalePrice'].values\n",
    "#X_train1,X_test1, y_train1, y_test1 = train_test_split(XX, yy, test_size=0.30, random_state=42)\n"
   ]
  },
  {
   "cell_type": "code",
   "execution_count": 30,
   "metadata": {},
   "outputs": [
    {
     "data": {
      "text/plain": [
       "GradientBoostingRegressor(alpha=0.9, criterion='friedman_mse', init=None,\n",
       "             learning_rate=0.1, loss='ls', max_depth=3, max_features=None,\n",
       "             max_leaf_nodes=None, min_impurity_decrease=0.0,\n",
       "             min_impurity_split=None, min_samples_leaf=1,\n",
       "             min_samples_split=2, min_weight_fraction_leaf=0.0,\n",
       "             n_estimators=100, presort='auto', random_state=None,\n",
       "             subsample=1.0, verbose=0, warm_start=False)"
      ]
     },
     "execution_count": 30,
     "metadata": {},
     "output_type": "execute_result"
    }
   ],
   "source": [
    "model.fit(X_train2,y_train2)"
   ]
  },
  {
   "cell_type": "code",
   "execution_count": 31,
   "metadata": {},
   "outputs": [],
   "source": [
    "X = test[cols]\n",
    "y_predict = model.predict(X)\n",
    "\n",
    "predicted_result = pd.DataFrame(data = y_predict,columns=['SalePrice'])\n",
    "result = pd.concat([test['Id'],predicted_result],axis=1)"
   ]
  },
  {
   "cell_type": "code",
   "execution_count": 32,
   "metadata": {},
   "outputs": [],
   "source": [
    "result.to_csv('../apartment/00.csv',index = False)"
   ]
  },
  {
   "cell_type": "code",
   "execution_count": null,
   "metadata": {},
   "outputs": [],
   "source": []
  }
 ],
 "metadata": {
  "kernelspec": {
   "display_name": "Python 3",
   "language": "python",
   "name": "python3"
  },
  "language_info": {
   "codemirror_mode": {
    "name": "ipython",
    "version": 3
   },
   "file_extension": ".py",
   "mimetype": "text/x-python",
   "name": "python",
   "nbconvert_exporter": "python",
   "pygments_lexer": "ipython3",
   "version": "3.6.4"
  }
 },
 "nbformat": 4,
 "nbformat_minor": 2
}
