{
 "cells": [
  {
   "cell_type": "code",
   "execution_count": 1,
   "metadata": {},
   "outputs": [],
   "source": [
    "import pandas as pd\n",
    "import numpy as np\n",
    "import matplotlib.pyplot as plt\n",
    "import seaborn as sns \n",
    "%matplotlib inline "
   ]
  },
  {
   "cell_type": "code",
   "execution_count": 2,
   "metadata": {},
   "outputs": [],
   "source": [
    "train = pd.read_csv('../apartment/train.csv')\n",
    "#train.info()"
   ]
  },
  {
   "cell_type": "code",
   "execution_count": 3,
   "metadata": {},
   "outputs": [],
   "source": [
    "from sklearn import preprocessing\n",
    "\n",
    "catagorical_cols=[]\n",
    "for column in train.columns.values:\n",
    "    if (train[column].dtype=='O'):\n",
    "        catagorical_cols.append(column)\n",
    "\n",
    "\n",
    "for x in catagorical_cols:\n",
    "    train[x]=train[x].fillna('None')\n",
    "    \n",
    "for x in catagorical_cols:\n",
    "    label = preprocessing.LabelEncoder()\n",
    "    train[x] = label.fit_transform(train[x])"
   ]
  },
  {
   "cell_type": "code",
   "execution_count": 4,
   "metadata": {},
   "outputs": [],
   "source": [
    "from sklearn import preprocessing\n",
    "from sklearn import linear_model, svm, gaussian_process\n",
    "from sklearn.ensemble import RandomForestRegressor\n",
    "from sklearn.tree import DecisionTreeRegressor\n",
    "from sklearn.linear_model.stochastic_gradient import SGDRegressor\n",
    "from sklearn.ensemble import GradientBoostingRegressor\n",
    "from sklearn.model_selection import train_test_split\n",
    "from sklearn.neural_network import MLPRegressor\n",
    "from sklearn.linear_model import Lasso\n",
    "import numpy as np"
   ]
  },
  {
   "cell_type": "code",
   "execution_count": 5,
   "metadata": {},
   "outputs": [],
   "source": [
    "train1 = train.drop('SalePrice',1)\n",
    "X = train1\n",
    "y1 =  pd.DataFrame(train['SalePrice'],columns=['SalePrice'])\n",
    "y = pd.concat([ train['Id'],y1], axis=1)\n",
    "X_train,X_test, y_train, y_test = train_test_split(X, y, test_size=0.30, random_state=42)"
   ]
  },
  {
   "cell_type": "code",
   "execution_count": 6,
   "metadata": {},
   "outputs": [
    {
     "name": "stderr",
     "output_type": "stream",
     "text": [
      "D:\\Anaconda3\\lib\\site-packages\\pandas\\core\\generic.py:4355: SettingWithCopyWarning: \n",
      "A value is trying to be set on a copy of a slice from a DataFrame\n",
      "\n",
      "See the caveats in the documentation: http://pandas.pydata.org/pandas-docs/stable/indexing.html#indexing-view-versus-copy\n",
      "  self._update_inplace(new_data)\n"
     ]
    }
   ],
   "source": [
    "for x in X_train.columns.values:\n",
    "    if(X_train[x].isnull().sum() >0):\n",
    "        X_train[x].fillna(X_train[x].mean(),inplace = True)\n",
    "for y in X_test.columns.values:\n",
    "    if(X_test[y].isnull().sum() >0):\n",
    "        X_test[y].fillna(X_test[y].mean(),inplace = True)"
   ]
  },
  {
   "cell_type": "code",
   "execution_count": 7,
   "metadata": {},
   "outputs": [],
   "source": [
    "X_train2 = X_train\n",
    "y_train2 = y_train['SalePrice'].values"
   ]
  },
  {
   "cell_type": "code",
   "execution_count": 8,
   "metadata": {},
   "outputs": [],
   "source": [
    "minmaxscaler = preprocessing.MinMaxScaler(copy=True, feature_range=(0, 1)).fit(X_train)\n",
    "X_train = X_train\n",
    "y_train = y_train['SalePrice'].values\n",
    "X_train = minmaxscaler.fit_transform(X_train)\n",
    "\n",
    "X_test = X_test\n",
    "y_test = y_test['SalePrice'].values\n",
    "X_test = minmaxscaler.transform(X_test)"
   ]
  },
  {
   "cell_type": "code",
   "execution_count": 9,
   "metadata": {},
   "outputs": [
    {
     "name": "stdout",
     "output_type": "stream",
     "text": [
      "svm score:0.41183194986795385\n",
      "RandomForestRegressor score:0.14088023096978228\n",
      "LinearRegression score:nan\n",
      "DecisionTreeRegressor score:0.20151161776467227\n",
      "SGDRegressor score:0.17884522461278382\n"
     ]
    },
    {
     "name": "stderr",
     "output_type": "stream",
     "text": [
      "D:\\Anaconda3\\lib\\site-packages\\ipykernel_launcher.py:18: RuntimeWarning: invalid value encountered in log\n"
     ]
    },
    {
     "name": "stdout",
     "output_type": "stream",
     "text": [
      "GradientBoostingRegressor score:0.13272335801688143\n",
      "MLPRegressor score:2.2013912128705417\n",
      "Lasso score:0.2676173864211928\n"
     ]
    },
    {
     "name": "stderr",
     "output_type": "stream",
     "text": [
      "D:\\Anaconda3\\lib\\site-packages\\sklearn\\neural_network\\multilayer_perceptron.py:564: ConvergenceWarning: Stochastic Optimizer: Maximum iterations (1000) reached and the optimization hasn't converged yet.\n",
      "  % self.max_iter, ConvergenceWarning)\n"
     ]
    }
   ],
   "source": [
    "clfs = {\n",
    "        'svm':svm.SVR(), \n",
    "        'RandomForestRegressor':RandomForestRegressor(n_estimators=200),\n",
    "        'LinearRegression':linear_model.LinearRegression(copy_X=True, fit_intercept=True, n_jobs=1, normalize=False),\n",
    "        'DecisionTreeRegressor':DecisionTreeRegressor(),\n",
    "        'SGDRegressor':SGDRegressor(max_iter=5, tol = None),\n",
    "        'GradientBoostingRegressor':GradientBoostingRegressor(),\n",
    "        'MLPRegressor':MLPRegressor(solver='adam', activation = 'relu',hidden_layer_sizes=20, max_iter=1000, learning_rate='adaptive', random_state= None),\n",
    "        'Lasso':Lasso(alpha = 0.1,max_iter=1000,random_state=None)\n",
    "       }\n",
    "for clf in clfs:\n",
    "    try:\n",
    "        clfs[clf].fit(X_train, y_train.ravel())   #why need to make this ravel()??\n",
    "        y_pred = clfs[clf].predict(X_test)\n",
    "        #print(clf + \" cost:\" + str(np.sum(y_pred-y_test)/len(y_pred)))\n",
    "        #print(clf + \" score:\" + str(np.mean(np.absolute(y_pred-y_test))))\n",
    "        #print(clf + \" score:\" + str(np.mean((y_pred-y_test)*(y_pred-y_test))))\n",
    "        print(clf + \" score:\" + str(np.sqrt(np.mean((np.log(y_pred)-np.log(y_test))*(np.log(y_pred)-np.log(y_test))))))\n",
    "    except Exception as e:\n",
    "        print(clf + \" Error:\")\n",
    "        print(str(e))"
   ]
  },
  {
   "cell_type": "code",
   "execution_count": null,
   "metadata": {},
   "outputs": [],
   "source": [
    "#prediction"
   ]
  },
  {
   "cell_type": "code",
   "execution_count": 10,
   "metadata": {},
   "outputs": [],
   "source": [
    "test = pd.read_csv('../apartment/test.csv')\n",
    "model = GradientBoostingRegressor()\n",
    "from sklearn import preprocessing\n",
    "label1 = preprocessing.LabelEncoder()\n",
    "\n",
    "catagorical_cols1=[]\n",
    "for column in test.columns.values:\n",
    "    if (test[column].dtype=='O'):\n",
    "        catagorical_cols1.append(column)\n",
    "\n",
    "\n",
    "for x in catagorical_cols1:\n",
    "    test[x]=test[x].fillna('None')\n",
    "    \n",
    "for x in catagorical_cols1:\n",
    "    label1 = preprocessing.LabelEncoder()\n",
    "    test[x] = label1.fit_transform(test[x])"
   ]
  },
  {
   "cell_type": "code",
   "execution_count": 11,
   "metadata": {},
   "outputs": [],
   "source": [
    "for z in test.columns.values:\n",
    "    if(test[z].isnull().sum() >0):\n",
    "        test[z].fillna(test[z].mean(),inplace = True)"
   ]
  },
  {
   "cell_type": "code",
   "execution_count": 12,
   "metadata": {},
   "outputs": [
    {
     "data": {
      "text/plain": [
       "GradientBoostingRegressor(alpha=0.9, criterion='friedman_mse', init=None,\n",
       "             learning_rate=0.1, loss='ls', max_depth=3, max_features=None,\n",
       "             max_leaf_nodes=None, min_impurity_decrease=0.0,\n",
       "             min_impurity_split=None, min_samples_leaf=1,\n",
       "             min_samples_split=2, min_weight_fraction_leaf=0.0,\n",
       "             n_estimators=100, presort='auto', random_state=None,\n",
       "             subsample=1.0, verbose=0, warm_start=False)"
      ]
     },
     "execution_count": 12,
     "metadata": {},
     "output_type": "execute_result"
    }
   ],
   "source": [
    "model.fit(X_train2,y_train2)"
   ]
  },
  {
   "cell_type": "code",
   "execution_count": 13,
   "metadata": {},
   "outputs": [],
   "source": [
    "X = test\n",
    "y_predict = model.predict(X)\n",
    "\n",
    "predicted_result = pd.DataFrame(data = y_predict,columns=['SalePrice'])\n",
    "result = pd.concat([test['Id'],predicted_result],axis=1)"
   ]
  },
  {
   "cell_type": "code",
   "execution_count": 14,
   "metadata": {},
   "outputs": [],
   "source": [
    "result.to_csv('../apartment/81Features.csv',index = False)"
   ]
  },
  {
   "cell_type": "code",
   "execution_count": null,
   "metadata": {},
   "outputs": [],
   "source": []
  }
 ],
 "metadata": {
  "kernelspec": {
   "display_name": "Python 3",
   "language": "python",
   "name": "python3"
  },
  "language_info": {
   "codemirror_mode": {
    "name": "ipython",
    "version": 3
   },
   "file_extension": ".py",
   "mimetype": "text/x-python",
   "name": "python",
   "nbconvert_exporter": "python",
   "pygments_lexer": "ipython3",
   "version": "3.6.4"
  }
 },
 "nbformat": 4,
 "nbformat_minor": 2
}
