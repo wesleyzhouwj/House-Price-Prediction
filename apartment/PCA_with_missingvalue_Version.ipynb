{
 "cells": [
  {
   "cell_type": "code",
   "execution_count": 1,
   "metadata": {},
   "outputs": [],
   "source": [
    "import pandas as pd\n",
    "import numpy as np\n",
    "import matplotlib.pyplot as plt\n",
    "import seaborn as sns \n",
    "%matplotlib inline "
   ]
  },
  {
   "cell_type": "code",
   "execution_count": 2,
   "metadata": {},
   "outputs": [],
   "source": [
    "train = pd.read_csv('../apartment/train.csv')\n",
    "#train.info()"
   ]
  },
  {
   "cell_type": "code",
   "execution_count": 3,
   "metadata": {},
   "outputs": [],
   "source": [
    "from sklearn import preprocessing\n",
    "catagorical_cols=[]\n",
    "for column in train.columns.values:\n",
    "    if (train[column].dtype=='O'):\n",
    "        catagorical_cols.append(column)\n",
    "for x in catagorical_cols:\n",
    "    train[x]=train[x].fillna('None')\n",
    "for x in catagorical_cols:\n",
    "    #label = preprocessing.LabelEncoder()\n",
    "    #train[x] = label.fit_transform(train[x])\n",
    "    train = train.drop(x,1)\n",
    "#train.info()\n",
    "#for x in train.columns.values:\n",
    "    #train[x].values.astype(np.float64)\n",
    "#train.info()"
   ]
  },
  {
   "cell_type": "code",
   "execution_count": 4,
   "metadata": {},
   "outputs": [],
   "source": [
    "#train.info()"
   ]
  },
  {
   "cell_type": "code",
   "execution_count": 5,
   "metadata": {},
   "outputs": [],
   "source": [
    "train['CarPerArea']=train['GarageArea']/train['GarageCars']\n",
    "train['CarPerArea']=train['CarPerArea'].fillna(train['CarPerArea'].mean())\n",
    "train['basementAnd1stFloorArea'] = train['1stFlrSF']+train['TotalBsmtSF']"
   ]
  },
  {
   "cell_type": "code",
   "execution_count": 6,
   "metadata": {},
   "outputs": [],
   "source": [
    "train = train.drop('GarageArea',1)\n",
    "train = train.drop('GarageCars',1)\n",
    "train = train.drop('1stFlrSF',1)\n",
    "train = train.drop('TotalBsmtSF',1)\n",
    "#train = train.drop('Id',1)"
   ]
  },
  {
   "cell_type": "code",
   "execution_count": 7,
   "metadata": {},
   "outputs": [],
   "source": [
    "#train = train.drop('OverallQual',1)\n",
    "#train = train.drop('MasVnrArea',1)\n",
    "#train = train.drop('2ndFlrSF',1)\n",
    "#train = train.drop('FullBath',1)\n",
    "#train = train.drop('Fireplaces',1)\n",
    "\n",
    "#train = train.drop('OverallCond',1)\n",
    "#train = train.drop('BsmtFinSF2',1)\n",
    "#train = train.drop('LowQualFinSF',1)\n",
    "#train = train.drop('BsmtFullBath',1)\n",
    "#train = train.drop('BsmtHalfBath',1)\n",
    "#train = train.drop('HalfBath',1)\n",
    "#train = train.drop('BedroomAbvGr',1)\n",
    "#train = train.drop('KitchenAbvGr',1)\n",
    "#train = train.drop('3SsnPorch',1)\n",
    "#train = train.drop('ScreenPorch',1)\n",
    "#train = train.drop('PoolArea',1)\n",
    "#train = train.drop('MiscVal',1)"
   ]
  },
  {
   "cell_type": "code",
   "execution_count": 8,
   "metadata": {},
   "outputs": [],
   "source": [
    "from sklearn import preprocessing\n",
    "from sklearn import linear_model, svm, gaussian_process\n",
    "from sklearn.ensemble import RandomForestRegressor\n",
    "from sklearn.tree import DecisionTreeRegressor\n",
    "from sklearn.linear_model.stochastic_gradient import SGDRegressor\n",
    "from sklearn.ensemble import GradientBoostingRegressor\n",
    "from sklearn.model_selection import train_test_split\n",
    "from sklearn.neural_network import MLPRegressor\n",
    "from sklearn.linear_model import Lasso\n",
    "import numpy as np"
   ]
  },
  {
   "cell_type": "code",
   "execution_count": 9,
   "metadata": {},
   "outputs": [],
   "source": [
    "train1 = train.drop('SalePrice',1)\n",
    "X = train1\n",
    "y1 =  pd.DataFrame(train['SalePrice'],columns=['SalePrice'])\n",
    "y = pd.concat([ train['Id'],y1], axis=1)\n",
    "X_train,X_test, y_train, y_test = train_test_split(X, y, test_size=0.30, random_state=42)"
   ]
  },
  {
   "cell_type": "code",
   "execution_count": 10,
   "metadata": {},
   "outputs": [],
   "source": [
    "#X_train.describe()"
   ]
  },
  {
   "cell_type": "code",
   "execution_count": 11,
   "metadata": {},
   "outputs": [
    {
     "name": "stdout",
     "output_type": "stream",
     "text": [
      "LotFrontage\n",
      "MasVnrArea\n",
      "GarageYrBlt\n"
     ]
    }
   ],
   "source": [
    "for x in X_train.columns.values:\n",
    "    if(X_train[x].isnull().sum() >0):\n",
    "        print(x)"
   ]
  },
  {
   "cell_type": "code",
   "execution_count": 12,
   "metadata": {},
   "outputs": [
    {
     "name": "stderr",
     "output_type": "stream",
     "text": [
      "D:\\Anaconda3\\lib\\site-packages\\pandas\\core\\generic.py:4355: SettingWithCopyWarning: \n",
      "A value is trying to be set on a copy of a slice from a DataFrame\n",
      "\n",
      "See the caveats in the documentation: http://pandas.pydata.org/pandas-docs/stable/indexing.html#indexing-view-versus-copy\n",
      "  self._update_inplace(new_data)\n"
     ]
    }
   ],
   "source": [
    "X_train['LotFrontage'].fillna(X_train['LotFrontage'].mean(),inplace = True)\n",
    "X_train['MasVnrArea'].fillna(X_train['MasVnrArea'].mean(),inplace = True)\n",
    "X_train['GarageYrBlt'].fillna(X_train['GarageYrBlt'].mean(),inplace = True)"
   ]
  },
  {
   "cell_type": "code",
   "execution_count": 13,
   "metadata": {},
   "outputs": [
    {
     "name": "stderr",
     "output_type": "stream",
     "text": [
      "D:\\Anaconda3\\lib\\site-packages\\pandas\\core\\generic.py:4355: SettingWithCopyWarning: \n",
      "A value is trying to be set on a copy of a slice from a DataFrame\n",
      "\n",
      "See the caveats in the documentation: http://pandas.pydata.org/pandas-docs/stable/indexing.html#indexing-view-versus-copy\n",
      "  self._update_inplace(new_data)\n"
     ]
    }
   ],
   "source": [
    "X_test['LotFrontage'].fillna(X_test['LotFrontage'].mean(),inplace = True)\n",
    "X_test['MasVnrArea'].fillna(X_test['MasVnrArea'].mean(),inplace = True)\n",
    "X_test['GarageYrBlt'].fillna(X_test['GarageYrBlt'].mean(),inplace = True)"
   ]
  },
  {
   "cell_type": "code",
   "execution_count": 14,
   "metadata": {},
   "outputs": [],
   "source": [
    "X_train = X_train.drop('Id',1)"
   ]
  },
  {
   "cell_type": "code",
   "execution_count": 15,
   "metadata": {},
   "outputs": [],
   "source": [
    "#X_train"
   ]
  },
  {
   "cell_type": "code",
   "execution_count": 16,
   "metadata": {},
   "outputs": [
    {
     "data": {
      "text/plain": [
       "array([[   20. ,    80. , 10400. , ...,  2008. ,   265. ,  2986. ],\n",
       "       [  180. ,    35. ,  3675. , ...,  2006. ,   262.5,  1619. ],\n",
       "       [   60. ,    72. ,  8640. , ...,  2010. ,   307. ,  1520. ],\n",
       "       ...,\n",
       "       [   20. ,    60. ,  8172. , ...,  2006. ,   286. ,  1728. ],\n",
       "       [   50. ,    55. ,  7642. , ...,  2007. ,   216. ,  1824. ],\n",
       "       [  120. ,    53. ,  3684. , ...,  2009. ,   220. ,  2928. ]])"
      ]
     },
     "execution_count": 16,
     "metadata": {},
     "output_type": "execute_result"
    }
   ],
   "source": [
    "from sklearn.feature_selection import VarianceThreshold\n",
    "sel = VarianceThreshold(threshold=(.8 * (1 - .8)))\n",
    "sel.fit_transform(X_train)"
   ]
  },
  {
   "cell_type": "code",
   "execution_count": 17,
   "metadata": {},
   "outputs": [],
   "source": [
    "cols = X_train.columns.values\n",
    "X_train = X_train[cols].values.astype(np.float64)\n",
    "y_train = y_train['SalePrice'].values.astype(np.float64)"
   ]
  },
  {
   "cell_type": "code",
   "execution_count": 18,
   "metadata": {},
   "outputs": [],
   "source": [
    "minmaxscaler = preprocessing.MinMaxScaler(copy=True, feature_range=(0, 1)).fit(X_train)\n",
    "X_train = minmaxscaler.fit_transform(X_train)\n",
    "#y_train = minmaxscaler.fit_transform(y_train.reshape(-1,1))"
   ]
  },
  {
   "cell_type": "code",
   "execution_count": 19,
   "metadata": {},
   "outputs": [],
   "source": [
    "X_test = X_test.drop('Id',1)"
   ]
  },
  {
   "cell_type": "code",
   "execution_count": 20,
   "metadata": {},
   "outputs": [],
   "source": [
    "X_test = X_test[cols].values.astype(np.float64)\n",
    "y_test = y_test['SalePrice'].values.astype(np.float64)\n",
    "X_test = minmaxscaler.transform(X_test)\n",
    "#y_test = minmaxscaler.transform(y_test.reshape(-1,1))"
   ]
  },
  {
   "cell_type": "code",
   "execution_count": 21,
   "metadata": {},
   "outputs": [
    {
     "data": {
      "text/plain": [
       "array([[0.        , 0.16780822, 0.03325154, ..., 0.        , 0.13687881,\n",
       "        0.17128391],\n",
       "       [0.23529412, 0.26369863, 0.05120942, ..., 1.        , 0.25719268,\n",
       "        0.25114635],\n",
       "       [0.05882353, 0.11986301, 0.03580359, ..., 1.        , 0.02702703,\n",
       "        0.16259075],\n",
       "       ...,\n",
       "       [0.23529412, 0.15068493, 0.03190072, ..., 0.5       , 0.15911072,\n",
       "        0.12428353],\n",
       "       [0.17647059, 0.15753425, 0.05166748, ..., 0.75      , 0.13687881,\n",
       "        0.09877723],\n",
       "       [0.23529412, 0.28424658, 0.05710814, ..., 0.75      , 0.14908457,\n",
       "        0.33989301]])"
      ]
     },
     "execution_count": 21,
     "metadata": {},
     "output_type": "execute_result"
    }
   ],
   "source": [
    "sel.transform(X_test)"
   ]
  },
  {
   "cell_type": "code",
   "execution_count": 22,
   "metadata": {},
   "outputs": [],
   "source": [
    "#X_test.describe()"
   ]
  },
  {
   "cell_type": "code",
   "execution_count": 23,
   "metadata": {},
   "outputs": [],
   "source": [
    "from sklearn.decomposition import PCA\n",
    "pca = PCA(n_components='mle',svd_solver='full')\n",
    "#n_components=8"
   ]
  },
  {
   "cell_type": "code",
   "execution_count": 24,
   "metadata": {},
   "outputs": [
    {
     "name": "stdout",
     "output_type": "stream",
     "text": [
      "[0.22772256 0.12347511 0.10696856 0.07437583 0.05989838 0.05901493\n",
      " 0.04962186 0.04812083 0.03262222 0.02258976 0.02095668 0.01882133\n",
      " 0.0163328  0.01494265 0.0140867  0.01305637 0.01272506 0.01155889\n",
      " 0.01033039 0.00958846 0.00756363 0.00712862 0.00639323 0.00599273\n",
      " 0.00475824 0.00462707 0.00408335 0.00342799 0.00267499 0.00233165\n",
      " 0.00204313 0.00157033 0.00059566]\n"
     ]
    }
   ],
   "source": [
    "X_train = pca.fit_transform(X_train)\n",
    "print(pca.explained_variance_ratio_)"
   ]
  },
  {
   "cell_type": "code",
   "execution_count": 25,
   "metadata": {},
   "outputs": [],
   "source": [
    "X_test = pca.transform(X_test)"
   ]
  },
  {
   "cell_type": "code",
   "execution_count": 26,
   "metadata": {},
   "outputs": [
    {
     "name": "stdout",
     "output_type": "stream",
     "text": [
      "svm score:0.41183759712231954\n",
      "RandomForestRegressor score:0.16965289152356056\n",
      "LinearRegression score:0.17518975455410335\n",
      "DecisionTreeRegressor score:0.2482847442238522\n",
      "SGDRegressor score:0.22124279852891632\n",
      "GradientBoostingRegressor score:0.2822392087244751\n",
      "MLPRegressor score:7.137827947673955\n",
      "Lasso score:0.17517872806420226\n"
     ]
    },
    {
     "name": "stderr",
     "output_type": "stream",
     "text": [
      "D:\\Anaconda3\\lib\\site-packages\\sklearn\\neural_network\\multilayer_perceptron.py:564: ConvergenceWarning: Stochastic Optimizer: Maximum iterations (1000) reached and the optimization hasn't converged yet.\n",
      "  % self.max_iter, ConvergenceWarning)\n"
     ]
    }
   ],
   "source": [
    "clfs = {\n",
    "        'svm':svm.SVR(), \n",
    "        'RandomForestRegressor':RandomForestRegressor(n_estimators=150),\n",
    "        'LinearRegression':linear_model.LinearRegression(copy_X=True, fit_intercept=True, n_jobs=1, normalize=False),\n",
    "        'DecisionTreeRegressor':DecisionTreeRegressor(),\n",
    "        'SGDRegressor':SGDRegressor(max_iter=5, tol = None),\n",
    "        'GradientBoostingRegressor':GradientBoostingRegressor(),\n",
    "        'MLPRegressor':MLPRegressor(solver='adam', activation = 'logistic',hidden_layer_sizes=20, max_iter=1000, learning_rate='adaptive', random_state= None),\n",
    "        'Lasso':Lasso(alpha = 0.1,max_iter=1000,random_state=None)\n",
    "       }\n",
    "for clf in clfs:\n",
    "    try:\n",
    "        clfs[clf].fit(X_train, y_train.ravel())   #why need to make this ravel()??\n",
    "        y_pred = clfs[clf].predict(X_test)\n",
    "        #print(clf + \" score:\" + str(np.mean(np.absolute(y_pred-y_test))))\n",
    "        #print(clf + \" score:\" + str(np.mean((y_pred-y_test)*(y_pred-y_test))))\n",
    "        print(clf + \" score:\" + str(np.sqrt(np.mean((np.log(y_pred)-np.log(y_test))*(np.log(y_pred)-np.log(y_test))))))\n",
    "    except Exception as e:\n",
    "        print(clf + \" Error:\")\n",
    "        print(str(e))"
   ]
  },
  {
   "cell_type": "code",
   "execution_count": 27,
   "metadata": {},
   "outputs": [
    {
     "name": "stdout",
     "output_type": "stream",
     "text": [
      " score:0.16317370494885639\n"
     ]
    }
   ],
   "source": [
    "clfs = GradientBoostingRegressor()\n",
    "clfs.fit(X_train, y_train.ravel())   #why need to make this ravel()??\n",
    "y_pred = clfs.predict(X_test)\n",
    "print(\" score:\" + str(np.sqrt(np.mean((np.log(y_pred)-np.log(y_test))*(np.log(y_pred)-np.log(y_test))))))"
   ]
  },
  {
   "cell_type": "code",
   "execution_count": 28,
   "metadata": {},
   "outputs": [],
   "source": [
    "#prediction"
   ]
  },
  {
   "cell_type": "code",
   "execution_count": 31,
   "metadata": {},
   "outputs": [],
   "source": [
    "test1 = pd.read_csv('../apartment/test.csv')\n",
    "model = GradientBoostingRegressor(random_state=1,learning_rate=0.015,min_samples_split=2,max_features='sqrt',n_estimators=150,min_samples_leaf=1,subsample=0.2,max_depth=3)"
   ]
  },
  {
   "cell_type": "code",
   "execution_count": 26,
   "metadata": {},
   "outputs": [],
   "source": [
    "from sklearn import preprocessing\n",
    "catagorical_cols1=[]\n",
    "for column in test1.columns.values:\n",
    "    if (test1[column].dtype=='O'):\n",
    "        catagorical_cols1.append(column)\n",
    "for x in catagorical_cols1:\n",
    "    test1[x]=test1[x].fillna('None')\n",
    "for x in catagorical_cols:\n",
    "    #label = preprocessing.LabelEncoder()\n",
    "    #train[x] = label.fit_transform(train[x])\n",
    "    test1 = test1.drop(x,1)\n",
    "#train.info()\n",
    "#for x in test.columns.values:\n",
    "    #test[x].values.astype(np.float64)"
   ]
  },
  {
   "cell_type": "code",
   "execution_count": 27,
   "metadata": {},
   "outputs": [],
   "source": [
    "#test1.isnull().sum()"
   ]
  },
  {
   "cell_type": "code",
   "execution_count": 28,
   "metadata": {},
   "outputs": [],
   "source": [
    "test1['CarPerArea']=test1['GarageArea']/test1['GarageCars']\n",
    "test1['CarPerArea']=test1['CarPerArea'].fillna(test1['CarPerArea'].mean())\n",
    "test1['basementAnd1stFloorArea'] = test1['1stFlrSF']+test1['TotalBsmtSF']\n",
    "\n",
    "test1 = test1.drop('GarageArea',1)\n",
    "test1 = test1.drop('GarageCars',1)\n",
    "test1 = test1.drop('1stFlrSF',1)\n",
    "test1 = test1.drop('TotalBsmtSF',1)"
   ]
  },
  {
   "cell_type": "code",
   "execution_count": 29,
   "metadata": {},
   "outputs": [],
   "source": [
    "#test1 = test1.drop('OverallQual',1)\n",
    "test1 = test1.drop('OverallCond',1)\n",
    "#test1 = test1.drop('MasVnrArea',1)\n",
    "test1 = test1.drop('BsmtFinSF2',1)\n",
    "#test1 = test1.drop('2ndFlrSF',1)\n",
    "test1 = test1.drop('LowQualFinSF',1)\n",
    "test1 = test1.drop('BsmtFullBath',1)\n",
    "test1 = test1.drop('BsmtHalfBath',1)\n",
    "#test1 = test1.drop('FullBath',1)\n",
    "test1 = test1.drop('HalfBath',1)\n",
    "test1 = test1.drop('BedroomAbvGr',1)\n",
    "test1 = test1.drop('KitchenAbvGr',1)\n",
    "#test1 = test1.drop('Fireplaces',1)\n",
    "test1 = test1.drop('3SsnPorch',1)\n",
    "test1 = test1.drop('ScreenPorch',1)\n",
    "test1 = test1.drop('PoolArea',1)\n",
    "test1 = test1.drop('MiscVal',1)"
   ]
  },
  {
   "cell_type": "code",
   "execution_count": 30,
   "metadata": {},
   "outputs": [
    {
     "data": {
      "text/plain": [
       "Id                           0\n",
       "MSSubClass                   0\n",
       "LotFrontage                227\n",
       "LotArea                      0\n",
       "OverallQual                  0\n",
       "YearBuilt                    0\n",
       "YearRemodAdd                 0\n",
       "MasVnrArea                  15\n",
       "BsmtFinSF1                   1\n",
       "BsmtUnfSF                    1\n",
       "2ndFlrSF                     0\n",
       "GrLivArea                    0\n",
       "FullBath                     0\n",
       "TotRmsAbvGrd                 0\n",
       "Fireplaces                   0\n",
       "GarageYrBlt                 78\n",
       "WoodDeckSF                   0\n",
       "OpenPorchSF                  0\n",
       "EnclosedPorch                0\n",
       "MoSold                       0\n",
       "YrSold                       0\n",
       "CarPerArea                   0\n",
       "basementAnd1stFloorArea      1\n",
       "dtype: int64"
      ]
     },
     "execution_count": 30,
     "metadata": {},
     "output_type": "execute_result"
    }
   ],
   "source": [
    "test1.isnull().sum()"
   ]
  },
  {
   "cell_type": "code",
   "execution_count": 31,
   "metadata": {},
   "outputs": [],
   "source": [
    "test1['CarPerArea']=test1['CarPerArea'].fillna(272.566184)\n",
    "test1['basementAnd1stFloorArea']=test1['basementAnd1stFloorArea'].fillna(2202.831276)\n",
    "test1['LotFrontage'].fillna(test1['LotFrontage'].mean(),inplace = True)\n",
    "test1['MasVnrArea'].fillna(test1['MasVnrArea'].mean(),inplace = True)\n",
    "test1['GarageYrBlt'].fillna(test1['GarageYrBlt'].mean(),inplace = True)\n",
    "test1['BsmtFinSF1'].fillna(test1['BsmtFinSF1'].mean(),inplace = True)\n",
    "#test1['BsmtFinSF2'].fillna(test1['BsmtFinSF2'].mean(),inplace = True)\n",
    "#test1['BsmtFullBath'].fillna(test1['BsmtFullBath'].mean(),inplace = True)\n",
    "#test1['BsmtHalfBath'].fillna(test1['BsmtHalfBath'].mean(),inplace = True)\n",
    "test1['BsmtUnfSF'].fillna(test1['BsmtUnfSF'].mean(),inplace = True)"
   ]
  },
  {
   "cell_type": "code",
   "execution_count": 32,
   "metadata": {},
   "outputs": [],
   "source": [
    "test3 = test1"
   ]
  },
  {
   "cell_type": "code",
   "execution_count": 33,
   "metadata": {},
   "outputs": [],
   "source": [
    "test3 = test3.drop('Id',1)"
   ]
  },
  {
   "cell_type": "code",
   "execution_count": 34,
   "metadata": {},
   "outputs": [],
   "source": [
    "test3 = minmaxscaler.transform(test3)"
   ]
  },
  {
   "cell_type": "code",
   "execution_count": 35,
   "metadata": {},
   "outputs": [],
   "source": [
    "test2 = pca.transform(test3)"
   ]
  },
  {
   "cell_type": "code",
   "execution_count": 45,
   "metadata": {},
   "outputs": [
    {
     "data": {
      "text/plain": [
       "GradientBoostingRegressor(alpha=0.9, criterion='friedman_mse', init=None,\n",
       "             learning_rate=0.1, loss='ls', max_depth=3, max_features=None,\n",
       "             max_leaf_nodes=None, min_impurity_decrease=0.0,\n",
       "             min_impurity_split=None, min_samples_leaf=1,\n",
       "             min_samples_split=2, min_weight_fraction_leaf=0.0,\n",
       "             n_estimators=100, presort='auto', random_state=None,\n",
       "             subsample=1.0, verbose=0, warm_start=False)"
      ]
     },
     "execution_count": 45,
     "metadata": {},
     "output_type": "execute_result"
    }
   ],
   "source": [
    "model.fit(X_train, y_train)"
   ]
  },
  {
   "cell_type": "code",
   "execution_count": 36,
   "metadata": {},
   "outputs": [],
   "source": [
    "y_predict = clfs.predict(test2)\n",
    "\n",
    "predicted_result = pd.DataFrame(data = y_predict,columns=['SalePrice'])\n",
    "result = pd.concat([test1['Id'],predicted_result],axis=1)"
   ]
  },
  {
   "cell_type": "code",
   "execution_count": 37,
   "metadata": {},
   "outputs": [],
   "source": [
    "result.to_csv('../apartment/PCA_version.csv',index = False)"
   ]
  },
  {
   "cell_type": "code",
   "execution_count": null,
   "metadata": {},
   "outputs": [],
   "source": []
  }
 ],
 "metadata": {
  "kernelspec": {
   "display_name": "Python 3",
   "language": "python",
   "name": "python3"
  },
  "language_info": {
   "codemirror_mode": {
    "name": "ipython",
    "version": 3
   },
   "file_extension": ".py",
   "mimetype": "text/x-python",
   "name": "python",
   "nbconvert_exporter": "python",
   "pygments_lexer": "ipython3",
   "version": "3.6.4"
  }
 },
 "nbformat": 4,
 "nbformat_minor": 2
}
